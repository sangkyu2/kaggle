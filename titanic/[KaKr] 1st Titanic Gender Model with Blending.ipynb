{
 "cells": [
  {
   "cell_type": "markdown",
   "metadata": {
    "_uuid": "a1498487e787bafd1fc279e896a2e9fb8f3bc54a"
   },
   "source": []
  },
  {
   "cell_type": "markdown",
   "metadata": {
    "_uuid": "7611b6cc2ae62f17433bf97c6223c969995b7bcd"
   },
   "source": [
    "![](https://i.imgur.com/eHJKbYb.png)\n",
    "\n",
    "![](https://i.imgur.com/9w3267z.png)\n",
    "\n",
    "Kernel 작성 시점의 Titanic competition 랭크 및 Score입니다. 스코어는 competition 종료 후 제출하였기 때문에 최종 랭크와는 관계가 없습니다.\n",
    "\n",
    "본 Kernel은 참가하신 다수의 분들이 겪으신 80% 초 ~ 중반 구간의 장벽을 어떻게 넘었는지에 대한 방법을 공유하기 위한 목적으로 작성하였습니다. 먼저 제가 작성한 방법 이외에도 **위의 구간을 넘는 다른 방법들이 존재함**을 분명히 밝힙니다. 저 또한 해당 구간을 극복하기 위해 다양한 방법을 고민하고 시도하였고, 누군가에게는 제가 한 고민이 도움이 될 수 있을것 같아 Kernel을 작성하게 되었습니다. \n",
    "\n",
    "1. 정확도를 올리기 위한 방법 중 일부를 공유하는 것이기 때문에 해당 Kernel에서는 위의 스코어까지 도달하는 직접적인 방법-code-은 제시하지 않습니다.\n",
    "\n",
    "2. 데이터에 대한 시각화는 선행하셨을 것이라고 판단하고 생략하였습니다.\n",
    "\n",
    "3. Genetic Programming에 대한 내용은 다루지 않습니다.\n",
    "\n",
    "4. 본 Kernel의 Gender Model은 Kaggle Titanic에 있는 Kerenl을 베이스로 발전시킨 것임을 밝힙니다.\n",
    "https://www.kaggle.com/cdeotte/titantic-mega-model-0-84210\n",
    "\n",
    "\n"
   ]
  },
  {
   "cell_type": "code",
   "execution_count": 16,
   "metadata": {
    "_cell_guid": "79c7e3d0-c299-4dcb-8224-4455121ee9b0",
    "_uuid": "d629ff2d2480ee46fbb7e2d37f6b5fab8052498a"
   },
   "outputs": [
    {
     "name": "stdout",
     "output_type": "stream",
     "text": [
      "<class 'pandas.core.frame.DataFrame'>\n",
      "RangeIndex: 891 entries, 0 to 890\n",
      "Data columns (total 12 columns):\n",
      "PassengerId    891 non-null int64\n",
      "Survived       891 non-null int64\n",
      "Pclass         891 non-null int64\n",
      "Name           891 non-null object\n",
      "Sex            891 non-null object\n",
      "Age            714 non-null float64\n",
      "SibSp          891 non-null int64\n",
      "Parch          891 non-null int64\n",
      "Ticket         891 non-null object\n",
      "Fare           891 non-null float64\n",
      "Cabin          204 non-null object\n",
      "Embarked       889 non-null object\n",
      "dtypes: float64(2), int64(5), object(5)\n",
      "memory usage: 83.6+ KB\n",
      "None\n"
     ]
    },
    {
     "data": {
      "text/html": [
       "<div>\n",
       "<style scoped>\n",
       "    .dataframe tbody tr th:only-of-type {\n",
       "        vertical-align: middle;\n",
       "    }\n",
       "\n",
       "    .dataframe tbody tr th {\n",
       "        vertical-align: top;\n",
       "    }\n",
       "\n",
       "    .dataframe thead th {\n",
       "        text-align: right;\n",
       "    }\n",
       "</style>\n",
       "<table border=\"1\" class=\"dataframe\">\n",
       "  <thead>\n",
       "    <tr style=\"text-align: right;\">\n",
       "      <th></th>\n",
       "      <th>PassengerId</th>\n",
       "      <th>Survived</th>\n",
       "      <th>Pclass</th>\n",
       "      <th>Name</th>\n",
       "      <th>Sex</th>\n",
       "      <th>Age</th>\n",
       "      <th>SibSp</th>\n",
       "      <th>Parch</th>\n",
       "      <th>Ticket</th>\n",
       "      <th>Fare</th>\n",
       "      <th>Cabin</th>\n",
       "      <th>Embarked</th>\n",
       "    </tr>\n",
       "  </thead>\n",
       "  <tbody>\n",
       "    <tr>\n",
       "      <th>742</th>\n",
       "      <td>743</td>\n",
       "      <td>1</td>\n",
       "      <td>1</td>\n",
       "      <td>Ryerson, Miss. Susan Parker \"Suzette\"</td>\n",
       "      <td>female</td>\n",
       "      <td>21.0</td>\n",
       "      <td>2</td>\n",
       "      <td>2</td>\n",
       "      <td>PC 17608</td>\n",
       "      <td>262.375</td>\n",
       "      <td>B57 B59 B63 B66</td>\n",
       "      <td>C</td>\n",
       "    </tr>\n",
       "    <tr>\n",
       "      <th>173</th>\n",
       "      <td>174</td>\n",
       "      <td>0</td>\n",
       "      <td>3</td>\n",
       "      <td>Sivola, Mr. Antti Wilhelm</td>\n",
       "      <td>male</td>\n",
       "      <td>21.0</td>\n",
       "      <td>0</td>\n",
       "      <td>0</td>\n",
       "      <td>STON/O 2. 3101280</td>\n",
       "      <td>7.925</td>\n",
       "      <td>NaN</td>\n",
       "      <td>S</td>\n",
       "    </tr>\n",
       "    <tr>\n",
       "      <th>669</th>\n",
       "      <td>670</td>\n",
       "      <td>1</td>\n",
       "      <td>1</td>\n",
       "      <td>Taylor, Mrs. Elmer Zebley (Juliet Cummins Wright)</td>\n",
       "      <td>female</td>\n",
       "      <td>NaN</td>\n",
       "      <td>1</td>\n",
       "      <td>0</td>\n",
       "      <td>19996</td>\n",
       "      <td>52.000</td>\n",
       "      <td>C126</td>\n",
       "      <td>S</td>\n",
       "    </tr>\n",
       "    <tr>\n",
       "      <th>795</th>\n",
       "      <td>796</td>\n",
       "      <td>0</td>\n",
       "      <td>2</td>\n",
       "      <td>Otter, Mr. Richard</td>\n",
       "      <td>male</td>\n",
       "      <td>39.0</td>\n",
       "      <td>0</td>\n",
       "      <td>0</td>\n",
       "      <td>28213</td>\n",
       "      <td>13.000</td>\n",
       "      <td>NaN</td>\n",
       "      <td>S</td>\n",
       "    </tr>\n",
       "    <tr>\n",
       "      <th>416</th>\n",
       "      <td>417</td>\n",
       "      <td>1</td>\n",
       "      <td>2</td>\n",
       "      <td>Drew, Mrs. James Vivian (Lulu Thorne Christian)</td>\n",
       "      <td>female</td>\n",
       "      <td>34.0</td>\n",
       "      <td>1</td>\n",
       "      <td>1</td>\n",
       "      <td>28220</td>\n",
       "      <td>32.500</td>\n",
       "      <td>NaN</td>\n",
       "      <td>S</td>\n",
       "    </tr>\n",
       "  </tbody>\n",
       "</table>\n",
       "</div>"
      ],
      "text/plain": [
       "     PassengerId  Survived  Pclass  \\\n",
       "742          743         1       1   \n",
       "173          174         0       3   \n",
       "669          670         1       1   \n",
       "795          796         0       2   \n",
       "416          417         1       2   \n",
       "\n",
       "                                                  Name     Sex   Age  SibSp  \\\n",
       "742              Ryerson, Miss. Susan Parker \"Suzette\"  female  21.0      2   \n",
       "173                          Sivola, Mr. Antti Wilhelm    male  21.0      0   \n",
       "669  Taylor, Mrs. Elmer Zebley (Juliet Cummins Wright)  female   NaN      1   \n",
       "795                                 Otter, Mr. Richard    male  39.0      0   \n",
       "416    Drew, Mrs. James Vivian (Lulu Thorne Christian)  female  34.0      1   \n",
       "\n",
       "     Parch             Ticket     Fare            Cabin Embarked  \n",
       "742      2           PC 17608  262.375  B57 B59 B63 B66        C  \n",
       "173      0  STON/O 2. 3101280    7.925              NaN        S  \n",
       "669      0              19996   52.000             C126        S  \n",
       "795      0              28213   13.000              NaN        S  \n",
       "416      1              28220   32.500              NaN        S  "
      ]
     },
     "execution_count": 16,
     "metadata": {},
     "output_type": "execute_result"
    }
   ],
   "source": [
    "import pandas as pd\n",
    "import numpy as np\n",
    "import re\n",
    "# from xgboost import XGBClassifier\n",
    "from sklearn import preprocessing, model_selection\n",
    "from sklearn.metrics import accuracy_score\n",
    "\n",
    "pd.options.mode.chained_assignment = None\n",
    "\n",
    "train = pd.read_csv('C:/Users/sangkyu/git/kaggle/titanic/input/train.csv')\n",
    "test = pd.read_csv('C:/Users/sangkyu/git/kaggle/titanic/input/test.csv')\n",
    "\n",
    "print(train.info())\n",
    "train.sample(5)"
   ]
  },
  {
   "cell_type": "markdown",
   "metadata": {
    "_uuid": "8f5be0416b15e5bdd37037d894430940e8f037a9"
   },
   "source": [
    "Train - Test 셋을 분리하지 않고 하나로 묶어서 전처리를 일부 진행합니다.\n",
    "\n",
    "분리하지 않고 묶어서 진행하는 이유는 Family를 분류하기 위해서인데 같은 가족 구성원임에도 불구하고 test셋에 그 구성원이 있는 경우가 있습니다. 따라서 하나로 묶은 뒤 일부 전처리를 한번에 하였습니다."
   ]
  },
  {
   "cell_type": "code",
   "execution_count": 17,
   "metadata": {
    "_uuid": "531820cae8603165aeebbc709b5e8e81a5757b0b"
   },
   "outputs": [
    {
     "name": "stdout",
     "output_type": "stream",
     "text": [
      "[All data] \n",
      " Pclass         0\n",
      "Name           0\n",
      "Sex            0\n",
      "Age          263\n",
      "SibSp          0\n",
      "Parch          0\n",
      "Ticket         0\n",
      "Fare           1\n",
      "Cabin       1014\n",
      "Embarked       2\n",
      "dtype: int64\n"
     ]
    }
   ],
   "source": [
    "x_train = train.drop(['PassengerId', 'Survived'], axis=1)\n",
    "x_test = test.drop(['PassengerId'], axis=1)\n",
    "y_train = train.Survived\n",
    "\n",
    "all = pd.concat([x_train, x_test]).reset_index(drop=True)\n",
    "\n",
    "print('[All data] \\n', all.isnull().sum())"
   ]
  },
  {
   "cell_type": "markdown",
   "metadata": {
    "_uuid": "0d9d6559fcea8ab3641a25f4ab9a4f5a5119e1b3"
   },
   "source": [
    "NA값이 존재하는 일부 열에 대해서 전처리를 해줍니다.\n",
    "\n",
    "Age, Fare의 경우 편차가 크기 때문에 median을 사용하고 4개의 구간으로 나누었습니다.\n",
    "\n",
    "Cabin의 경우 값이 존재하는 맨 앞 이니셜을 가져왔고, Embarked는 최빈값을 넣었습니다."
   ]
  },
  {
   "cell_type": "code",
   "execution_count": 18,
   "metadata": {
    "_uuid": "ed7abbcbb35ea9829f0b5338484c18705024def1"
   },
   "outputs": [
    {
     "name": "stdout",
     "output_type": "stream",
     "text": [
      "28.0 // 14.4542 // 1014 // 2 \n",
      "\n",
      "Embarked\n",
      "C    270\n",
      "Q    123\n",
      "S    914\n",
      "Name: Embarked, dtype: int64 \n",
      "\n",
      "Pclass      0\n",
      "Name        0\n",
      "Sex         0\n",
      "Age         0\n",
      "SibSp       0\n",
      "Parch       0\n",
      "Ticket      0\n",
      "Fare        0\n",
      "Cabin       0\n",
      "Embarked    0\n",
      "dtype: int64\n"
     ]
    }
   ],
   "source": [
    "age_med = np.nanmedian(all.Age)\n",
    "fare_med = np.nanmedian(all.Fare)\n",
    "\n",
    "print(age_med, '//', \n",
    "      fare_med, '//',\n",
    "      all.Cabin.isnull().sum(), '//',\n",
    "      all.Embarked.isnull().sum(), '\\n')\n",
    "\n",
    "print(all.groupby('Embarked').Embarked.count(), '\\n')\n",
    "\n",
    "# Age median : 28\n",
    "# Fare median : 14.4542\n",
    "# Cabin : unknown 1014\n",
    "# Embarked : two missing values input 'S'\n",
    "\n",
    "all.Age = all.Age.fillna(age_med)\n",
    "all.Age = pd.qcut(all.Age, 4, labels=False)\n",
    "all.Fare = all.Fare.fillna(fare_med)\n",
    "all.Fare = pd.qcut(all.Fare, 4, labels=False)\n",
    "all.Cabin = all.Cabin.fillna('unknown')\n",
    "all.Cabin = all.Cabin.apply(lambda x: x[0])\n",
    "all.Embarked = all.Embarked.fillna('S')\n",
    "\n",
    "print(all.isnull().sum())\n",
    "#print(all.info())"
   ]
  },
  {
   "cell_type": "markdown",
   "metadata": {
    "_uuid": "44a26649cb2e269bdd78fd536ff4fe59ec1afae0"
   },
   "source": [
    "Name의 경우 다음과 같은 규칙성을 가지고 있습니다.\n",
    "\n",
    "[Family name, Title. Last name]\n",
    "\n",
    "이를 family_name과 title으로 분리하여 Family_name과 새로운 성별을 만들어줍니다. Family_name은 가족을 분류하고 가족의 생존률을 계산하기 위해 사용하고, title은 이 사람이 남성인지, 여성인지 혹은 남자 아이인지 분류합니다. \n",
    "\n",
    "갑자기 왜 남자아이가 나오지? 라고 생각하실 수 있는데 데이터를 탐색할 때 확인하셨겠지만 title에 'Master'가 존재합니다. 큰 생각 없이 석사학위 소지자라고 생각하였으나, 아무리 시대의 흐름을 고려하여도 10세 미만의 'Master'는 너무나도 이상합니다. 하여 사전을 찾아보니 Mr라고 불릴 정도의 나이가 되지 않은 어린 남자아이를 부르는 호칭이었습니다. 시각화를 통해 파악하신 분들이 있겠지만 이 'Master'에 속한 사람들의 생존률은 일반 성인남성의 생존율보다 훨씬 높게 나타났기 때문에 따로 분류할 필요가 있었습니다.\n",
    "\n",
    "가족을 Family_name으로 분류한 뒤 가족의 구성원 수를 구하고, 일행이 없는 사람을 분류합니다. 그 후 여성이면서 혼자 탑승한 사람들 중, 다른 사람과 티켓 값이 동일한 사람들이 존재합니다. 이들은 nanny가 아닐까 싶은데 이들 또한 서로 연관성이 있다고 판단하여 'alone'이 아니라 동일한 티켓 값을 가진 사람의 'family_name'을 부여하였습니다. PassengerId가 581번인 여성을 보면 Family_name이 바뀐 것을 확인할 수 있습니다.\n",
    "\n",
    "Group은 해당 사람이 속한 집단을 더 명확하게 분류하기 위해 [가족-지위-운임-티켓-승선지 ] 로 다시 분류하였습니다. 해당 데이터는 Gender Model에서는 사용하지 않고 아래에서 설명할 blending의 재료를 만들기 위해 XGBClassifier 또는 MLP, 등등의 모델에 사용하기 위해 만들어 주었습니다.\n",
    "\n",
    "전처리가 끝나고 중복된 항목 및 target과 크게 연관성이 없는 변수들은 제거하고 전처리를 마칩니다."
   ]
  },
  {
   "cell_type": "code",
   "execution_count": 19,
   "metadata": {
    "_uuid": "4061efcfcb14ab700a2e7749f3d6a787175279b2"
   },
   "outputs": [],
   "source": [
    "def data_Preprocessing(df):\n",
    "    df['Gender'] = df.Name.apply(lambda x: re.split(', |\\\\. ', x)[1])\n",
    "\n",
    "    name_man = [df.Gender[df.Sex == 'male'].unique()]\n",
    "    name_woman = df.Gender[df.Sex == 'female'].unique().tolist()\n",
    "    name_man = np.delete(name_man, 1).tolist()\n",
    "\n",
    "    df.loc[df.Gender.isin(name_man), 'Gender'] = 'man'\n",
    "    df.loc[df.Gender.isin(name_woman), 'Gender'] = 'woman'\n",
    "    df.loc[df.Gender == 'Master', 'Gender'] = 'boy'\n",
    "\n",
    "    df['Family_name'] = df.Name.apply(lambda x: x.split(',')[0])\n",
    "    df.loc[df.Gender == 'man', 'Family_name'] = 'alone'\n",
    "    df['Family_freq'] = df.groupby('Family_name')['Family_name'].transform('count')\n",
    "    df.loc[df.Family_freq <= 1, 'Family_name'] = 'alone'\n",
    "\n",
    "    df.Ticket = df.Ticket.apply(lambda x: x[:-1] + 'X')\n",
    "    df['Group'] = df.Family_name + '-' + \\\n",
    "                  df.Pclass.map(str) + '-' + \\\n",
    "                  df.Fare.map(str) + '-' + \\\n",
    "                  df.Ticket + '-' + \\\n",
    "                  df.Embarked\n",
    "\n",
    "    # 581 example\n",
    "    for i in range(0, len(df)):\n",
    "        if df.loc[i,'Gender'] != 'man' and df.loc[i,'Family_name'] == 'alone':\n",
    "            \n",
    "            df.loc[i,'Family_name'] = \\\n",
    "            df.Family_name[df.Ticket == df.Ticket[i]].iloc[0]\n",
    "\n",
    "    df = df.drop(['Name', 'Ticket', 'Sex', 'SibSp', 'Parch'], axis=1)\n",
    "\n",
    "    return df"
   ]
  },
  {
   "cell_type": "markdown",
   "metadata": {
    "_uuid": "42752054ab1fac50cf040b346a416b6f79802564"
   },
   "source": [
    "전처리에서 만들어준 가족 구성원 숫자를 통해 해당 가족의 생존율을 구합니다. 가족 생존율을 구할때는 Train의 Survived를 활용하여 Train-set의 범위에 해당하는 부분만 구한 뒤, 이를 Test-set에도 동일한 가족의 이름을 가진 사람들에게 적용해줍니다. \n",
    "\n",
    "Train에서 이 가족의 생존율이 n%만큼 나타났으니 Test에도 n%만큼 나타나지 않을까? 라는 매우 단편적인 예측입니다. 이 단편적인 예측에 몇 가지 **가정**을 더해보았습니다. \n",
    "\n",
    "1. 생존율이 존재하지 않는 데이터 중 Pclass로 대표되는 사회경제적 지위가 낮은 사람들은 사망하고, 그 반대의 경우에는 생존했을 것이다. --> **다소 불편하지만 어디까지나 가정입니다.**\n",
    "\n",
    "2. 여성의 생존율이 높게 나타났기 때문에 여성은 기본적으로 생존했을 것이다.\n",
    "\n",
    "3. 남자 아이인데 해당 가족 구성원이 모두 생존하였다면 생존했을 것이다.\n",
    "\n",
    "4. 여성이지만 해당 가족 구성원이 모두 사망하였다면 사망하였을 것이다.\n",
    "\n",
    "5. 대부분의 남성은 죽었을 것이다.\n",
    "\n",
    "\n",
    "이 단편적인 가정이 만든 모델은 어떤 결과를 가져올까요\n"
   ]
  },
  {
   "cell_type": "code",
   "execution_count": 20,
   "metadata": {
    "_uuid": "96a23ff207dc3ea54ae6b8b0a24f8bbd16023322"
   },
   "outputs": [],
   "source": [
    "df = data_Preprocessing(all)\n",
    "\n",
    "df.loc[0:890, 'Survived'] = y_train\n",
    "temp = df.loc[0:890]\n",
    "temp['Family_freq'] = temp.groupby('Family_name')['Family_name'].transform('count')\n",
    "temp['Family_survival'] = \\\n",
    "temp.groupby('Family_name')['Survived'].transform('sum') / \\\n",
    "temp.groupby('Family_name')['Family_name'].transform('count')\n",
    "\n",
    "temp['Group_freq'] = temp.groupby('Group')['Group'].transform('count')\n",
    "temp['Group_survival'] = \\\n",
    "temp.groupby('Group')['Survived'].transform('sum') / \\\n",
    "temp.groupby('Group')['Group'].transform('count')\n",
    "\n",
    "\n",
    "df['Family_survival'] = temp.Family_survival\n",
    "df['Group_survival'] = temp.Group_survival\n",
    "\n",
    "del temp\n",
    "\n",
    "for i in range(891, len(df)):\n",
    "    df.loc[i, 'Family_survival'] = df.Family_survival[df.Family_name == df.Family_name[i]].iloc[0]\n",
    "    \n",
    "df.loc[(df.Family_survival.isnull()) & (df.Pclass == 3), 'Family_survival'] = 0\n",
    "df.loc[(df.Family_survival.isnull()) & (df.Pclass != 3), 'Family_survival'] = 1\n",
    "\n",
    "df['predict'] = int(0)\n",
    "df.loc[df.Gender == 'woman', 'predict'] = 1\n",
    "df.loc[(df.Gender == 'boy') & (df.Family_survival == 1), 'predict'] = 1\n",
    "df.loc[(df.Gender == 'woman') & (df.Family_survival == 0), 'predict'] = 0"
   ]
  },
  {
   "cell_type": "code",
   "execution_count": 25,
   "metadata": {
    "_uuid": "44ae6d756da78a87b7e8481581b9258b2873f191"
   },
   "outputs": [
    {
     "data": {
      "text/html": [
       "<div>\n",
       "<style scoped>\n",
       "    .dataframe tbody tr th:only-of-type {\n",
       "        vertical-align: middle;\n",
       "    }\n",
       "\n",
       "    .dataframe tbody tr th {\n",
       "        vertical-align: top;\n",
       "    }\n",
       "\n",
       "    .dataframe thead th {\n",
       "        text-align: right;\n",
       "    }\n",
       "</style>\n",
       "<table border=\"1\" class=\"dataframe\">\n",
       "  <thead>\n",
       "    <tr style=\"text-align: right;\">\n",
       "      <th></th>\n",
       "      <th>PassengerId</th>\n",
       "      <th>Survived</th>\n",
       "    </tr>\n",
       "  </thead>\n",
       "  <tbody>\n",
       "    <tr>\n",
       "      <th>161</th>\n",
       "      <td>1053</td>\n",
       "      <td>1</td>\n",
       "    </tr>\n",
       "    <tr>\n",
       "      <th>298</th>\n",
       "      <td>1190</td>\n",
       "      <td>0</td>\n",
       "    </tr>\n",
       "    <tr>\n",
       "      <th>387</th>\n",
       "      <td>1279</td>\n",
       "      <td>0</td>\n",
       "    </tr>\n",
       "    <tr>\n",
       "      <th>142</th>\n",
       "      <td>1034</td>\n",
       "      <td>0</td>\n",
       "    </tr>\n",
       "    <tr>\n",
       "      <th>394</th>\n",
       "      <td>1286</td>\n",
       "      <td>0</td>\n",
       "    </tr>\n",
       "    <tr>\n",
       "      <th>299</th>\n",
       "      <td>1191</td>\n",
       "      <td>0</td>\n",
       "    </tr>\n",
       "    <tr>\n",
       "      <th>77</th>\n",
       "      <td>969</td>\n",
       "      <td>1</td>\n",
       "    </tr>\n",
       "    <tr>\n",
       "      <th>250</th>\n",
       "      <td>1142</td>\n",
       "      <td>1</td>\n",
       "    </tr>\n",
       "    <tr>\n",
       "      <th>212</th>\n",
       "      <td>1104</td>\n",
       "      <td>0</td>\n",
       "    </tr>\n",
       "    <tr>\n",
       "      <th>245</th>\n",
       "      <td>1137</td>\n",
       "      <td>0</td>\n",
       "    </tr>\n",
       "  </tbody>\n",
       "</table>\n",
       "</div>"
      ],
      "text/plain": [
       "     PassengerId  Survived\n",
       "161         1053         1\n",
       "298         1190         0\n",
       "387         1279         0\n",
       "142         1034         0\n",
       "394         1286         0\n",
       "299         1191         0\n",
       "77           969         1\n",
       "250         1142         1\n",
       "212         1104         0\n",
       "245         1137         0"
      ]
     },
     "execution_count": 25,
     "metadata": {},
     "output_type": "execute_result"
    }
   ],
   "source": [
    "sub_GM = test[['PassengerId']]\n",
    "sub_GM['Survived'] = np.int64(df.loc[891:len(df), 'predict'].values)\n",
    "sub_GM.to_csv('kernel_GM.csv', index=False)\n",
    "\n",
    "sub_GM.sample(10)"
   ]
  },
  {
   "cell_type": "code",
   "execution_count": 9,
   "metadata": {},
   "outputs": [
    {
     "data": {
      "text/plain": [
       "0    276\n",
       "1    142\n",
       "Name: Survived, dtype: int64"
      ]
     },
     "execution_count": 9,
     "metadata": {},
     "output_type": "execute_result"
    }
   ],
   "source": [
    "sub_GM['Survived'].value_counts()"
   ]
  },
  {
   "cell_type": "markdown",
   "metadata": {
    "_uuid": "0dfec3e91635263bff316985e12d89a23ce78f89"
   },
   "source": [
    "![](https://i.imgur.com/nX9GyQR.png)\n",
    "  \n",
    "  \n",
    "이렇게 단순한 가정으로 Public은 0..84688을 달성할 수 있었습니다. 하지만 실제 Private Score와의 격차는 크게 나타났네요. 동일한 자료를 Kaggle Titanic competition에 제출할 경우 0.82xxx정도의 public score를 얻었던 것으로 기억합니다.\n",
    " \n",
    "다음에 시도할 방법은 Blending 입니다. ensembling의 개념으로 본인이 가지고 있는 점수와 유사한 점수대에 있는 다른 결과를 혼합하여 최종 결과를 보정합니다. 내가 가진 예측 결과가 0.82775 일 때, 다른 누군가도 동일한 결과를 나타내고 있는 것을 보신 적이 있을겁니다. 그 사람의 submission과 본인의 submission이 완전히 일치한다고 장담할 수 있을까요?\n",
    "\n",
    "아래의 예시를 보면 바로 이해가 되실겁니다. 아래의 데이터셋은 각각 Kaggle Titanic의 Kernel에서 가져왔고, 제출한 점수보다 높지 않고 비슷하거나 더 낮은 score를 가지고 있습니다."
   ]
  },
  {
   "cell_type": "code",
   "execution_count": null,
   "metadata": {
    "_uuid": "dea5c1bb7b0a446fced0742769eda0ed91bd4745"
   },
   "outputs": [],
   "source": [
    "blend = pd.read_csv('../input/titanic-first-blending/blendind_material.csv')\n",
    "blend.head(5)"
   ]
  },
  {
   "cell_type": "markdown",
   "metadata": {
    "_uuid": "9183b11f57b5bf572dbc183c45c7050f536e23b3"
   },
   "source": [
    "best1 ~ best5는 각 submission에서의 Survived를 나타냅니다. 기본적으로 위에서 사용한 sub_GM의 Survived를 베이스로 하여 sub_GM을 포함한 6개의 결과의 합계를 계산합니다.  내가 사망했다고 판단한 누군가를 다른 사람은 생존했다고 판단했을 수 있고, 반대의 경우도 마찬가지입니다. 이를 모두 더해 과반수의 의견에 따라 기존의 판단을 수정하고 최종 결과를 산출합니다.\n",
    "\n"
   ]
  },
  {
   "cell_type": "code",
   "execution_count": null,
   "metadata": {
    "_uuid": "3e1ae806eae87783e2181f1a24911e4a00566552"
   },
   "outputs": [],
   "source": [
    "for i in range(0, len(blend)):\n",
    "    for c in range(3, 9):\n",
    "        blend.loc[i, 'Sum'] = blend.loc[i, 'Sum'] + blend.iloc[i,c]\n",
    "        \n",
    "    if blend.loc[i, 'best'] == 0 and blend.loc[i, 'Sum'] > 2.5:\n",
    "        blend.loc[i, 'Survived'] = 1\n",
    "            \n",
    "    if blend.loc[i, 'best'] == 1 and blend.loc[i, 'Sum'] < 2.5:\n",
    "        blend.loc[i, 'Survived'] = 0\n",
    "\n",
    "blend.head(10)  "
   ]
  },
  {
   "cell_type": "code",
   "execution_count": null,
   "metadata": {
    "_uuid": "4ac2ab14765c5ab7e0f223c484f8fe8f21ebe5f5"
   },
   "outputs": [],
   "source": [
    "blend = blend.iloc[:, 0:2]\n",
    "blend.to_csv('kernel_blend_1st.csv', index=False)"
   ]
  },
  {
   "cell_type": "markdown",
   "metadata": {
    "_uuid": "5001dd724ea5cced71247d0930d533a9c48a0658"
   },
   "source": [
    "![](https://i.imgur.com/F9q1OC4.png)\n",
    "Public score는 나아지지 않았지만 Private score는 확실히 개선되었습니다. Private score와 차이가 있는 것은 public socre와 private score를 scoring 할 때 표본수가 다르기 때문에 차이가 있는 것입니다. Private score가 개선되었으니 더 나아졌다고 말할 수 있겠네요.\n",
    "\n",
    "\n",
    "**Second Blending & Blending Material**\n",
    "\n",
    "Blending을 하다보면 스스로 다양하게 시도한 blending 결과들을 submission 했을 때 동일한 public score를 받는 경우가 생깁니다. 아래의 자료는 제가 다양하게 blending 시도한 결과들 중 겹치지 않는 5가지 결과를 가지고 다시 blending 하기 위한 작업입니다.\n",
    "\n",
    "Blending에 필요한 결과들은 어떻게 수집하는지 궁금하신 분들이 있을텐데 그건 \n",
    "\n",
    "1. 본인의 다양한 모형을 시도한 결과. ( XGB / MLP / SVM / Logistic Regression / etc... )\n",
    "\n",
    "2. Blending한 결과를 다시 blending material로 사용.\n",
    "\n",
    "3. Kernel에 감사하게도 공유해주신 유사한 스코어 분들의 결과를 포함.\n",
    "\n",
    "저의 경우 Gender Model 에 XGBClassifier의 결과를 일부 사용하여 재료를 만들어보기도 했습니다.  Gender Model의 기본 가정이 절대 다수의 남성이 사망하였다는 전제가 있기 때문에 XGBClassifier를 통해 생존했다고 판단한 남성들의 값 만을 대입해보기도 하였습니다. 최소한 3개 이상의 서로 독립인 결과를 가지고 blending해야 성능을 기대할 수 있습니다."
   ]
  },
  {
   "cell_type": "code",
   "execution_count": null,
   "metadata": {
    "_uuid": "5bf93ef6a1a4cfd761d3b092f98c42417b1e50d0"
   },
   "outputs": [],
   "source": [
    "blend2 = pd.read_csv('../input/titanic-second-blending/blendind_material2.csv')\n",
    "\n",
    "for i in range(0, len(blend2)):\n",
    "    for c in range(2,7):\n",
    "        blend2.iloc[i,7] = blend2.iloc[i,7] + blend2.iloc[i,c]\n",
    "        \n",
    "    if blend2.loc[i, 'Survived'] == 0 and blend2.loc[i, 'Sum'] > 2.5:\n",
    "        blend2.loc[i, 'Survived'] = 1\n",
    "    if blend2.loc[i, 'Survived'] == 1 and blend2.loc[i, 'Sum'] < 2.5:\n",
    "        blend2.loc[i, 'Survived'] = 0\n",
    "\n",
    "blend2.head(10)   "
   ]
  },
  {
   "cell_type": "code",
   "execution_count": null,
   "metadata": {
    "_uuid": "8848537074f665747d6cde442ae36414552180e6"
   },
   "outputs": [],
   "source": [
    "blend2 = blend2.iloc[:, 0:2]\n",
    "blend2.to_csv('kernel_blend_2nd.csv', index=False)"
   ]
  },
  {
   "cell_type": "markdown",
   "metadata": {
    "_uuid": "8454e001812096e9864fe7cf14a79ce0035a5170"
   },
   "source": [
    "![](https://i.imgur.com/MEeNhtS.png)\n",
    "\n",
    "두 번째 blending한 결과 또한 위와 동일하게 public score는 나아지지 않았으나 private score는 확실히 개선되었습니다. \n",
    "\n",
    "제가 90% 이상의 score를 달성하기까지 blending을 하면 할수록 공통적으로 여러 결과에서 헷갈려하는 몇몇 PassengerId들이 있었습니다. 위를 보면 Sum에 5 또는 0이라면 모든 결과에서 이견 없이 생존 혹은 사망이라고 판단한 경우입니다. 하지만 Sum이 1 ~ 4라면 각각의 결과들도 사람과 마찬가지로 생존여부를 헷갈려합니다. 해당 PassengerId들을 보정 하다보면 blending 결과가 나아지지 않는 상황을 극복하실 수 있을거라 생각합니다.\n",
    "\n",
    "실제 눈으로 확인할 수 있는 것은 public score 일텐데 이건 public score가 계속 나빠지기 때문에 이 자체가 유의미한 결과인지 의심이 들 수 있다고 생각합니다. 저도 Kaggle competition에 blending한 결과를 여러차례 제출하였고, 동일한 결과 혹은 더 나빠진 결과를 받은 경우가 훨씬 많습니다. 하지만 그 과정 역시 눈에 보이지 않을 뿐 실제로는 발전하고 있는 과정이라고 생각합니다. Titanic competition에 대해 현재의 상황에서 어떻게 해야 더 나아질지 돌파구를 찾고 계시는 분들께 조금이나마 도움이 될 수 있었으면 좋겠습니다.\n",
    "\n",
    "감사합니다."
   ]
  }
 ],
 "metadata": {
  "kernelspec": {
   "display_name": "Python 3",
   "language": "python",
   "name": "python3"
  },
  "language_info": {
   "codemirror_mode": {
    "name": "ipython",
    "version": 3
   },
   "file_extension": ".py",
   "mimetype": "text/x-python",
   "name": "python",
   "nbconvert_exporter": "python",
   "pygments_lexer": "ipython3",
   "version": "3.6.8"
  }
 },
 "nbformat": 4,
 "nbformat_minor": 1
}
