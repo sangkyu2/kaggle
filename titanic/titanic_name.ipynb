{
 "cells": [
  {
   "cell_type": "code",
   "execution_count": 13,
   "metadata": {},
   "outputs": [],
   "source": [
    "import graphviz \n",
    "import matplotlib.pyplot as plt\n",
    "import numpy as np\n",
    "import pandas as pd\n",
    "from sklearn import tree\n",
    "from sklearn.model_selection import cross_val_score, GridSearchCV\n",
    "import os\n"
   ]
  },
  {
   "cell_type": "code",
   "execution_count": 14,
   "metadata": {},
   "outputs": [],
   "source": [
    "train = pd.read_csv('C:/Users/sangkyu/git/kaggle/titanic/input/train.csv').set_index('PassengerId')\n",
    "test = pd.read_csv('C:/Users/sangkyu/git/kaggle/titanic/input/test.csv').set_index('PassengerId')\n",
    "df = pd.concat([train, test], axis=0, sort=False)\n",
    "df['Title'] = df.Name.str.split(',').str[1].str.split('.').str[0].str.strip()\n",
    "df['IsWomanOrChild'] = ((df.Title == 'Master') | (df.Sex == 'female'))\n",
    "df['LastName'] = df.Name.str.split(',').str[0]\n",
    "\n",
    "family = df.groupby(df.LastName).Survived\n",
    "df['FamilyTotalCount'] = family.transform(lambda s: s[df.IsWomanOrChild].fillna(0).count())\n",
    "df['FamilyTotalCount'] = df.mask(df.IsWomanOrChild, df.FamilyTotalCount - 1, axis=0)\n",
    "df['FamilySurvivedCount'] = family.transform(lambda s: s[df.IsWomanOrChild].fillna(0).sum())\n",
    "df['FamilySurvivedCount'] = df.mask(df.IsWomanOrChild, df.FamilySurvivedCount - df.Survived.fillna(0), axis=0)\n",
    "df['FamilySurvivalRate'] = (df.FamilySurvivedCount / df.FamilyTotalCount.replace(0, np.nan))\n",
    "df['IsSingleTraveler'] = df.FamilyTotalCount == 0"
   ]
  },
  {
   "cell_type": "code",
   "execution_count": 15,
   "metadata": {},
   "outputs": [],
   "source": [
    "x = pd.concat([\n",
    "    df.FamilySurvivalRate.fillna(0),\n",
    "    df.IsSingleTraveler,\n",
    "    df.Sex.replace({'male': 0, 'female': 1}),\n",
    "], axis=1)\n",
    "train_x, test_x = x.loc[train.index], x.loc[test.index]\n",
    "train_y = df.Survived.loc[train.index]"
   ]
  },
  {
   "cell_type": "code",
   "execution_count": 16,
   "metadata": {},
   "outputs": [
    {
     "data": {
      "text/plain": [
       "{'criterion': 'gini', 'max_depth': 3}"
      ]
     },
     "execution_count": 16,
     "metadata": {},
     "output_type": "execute_result"
    }
   ],
   "source": [
    "clf = tree.DecisionTreeClassifier()\n",
    "grid = GridSearchCV(clf, cv=5, param_grid={\n",
    "    'criterion': ['gini', 'entropy'], \n",
    "    'max_depth': [2, 3, 4, 5]})\n",
    "grid.fit(train_x, train_y)\n",
    "grid.best_params_"
   ]
  },
  {
   "cell_type": "code",
   "execution_count": 17,
   "metadata": {},
   "outputs": [],
   "source": [
    "model = grid.best_estimator_"
   ]
  },
  {
   "cell_type": "code",
   "execution_count": 18,
   "metadata": {},
   "outputs": [],
   "source": [
    "test_y = model.predict(test_x).astype(int)\n",
    "pd.DataFrame({'Survived': test_y}, index=test.index) \\\n",
    ".reset_index() \\\n",
    ".to_csv(f'survived.csv', index=False)"
   ]
  },
  {
   "cell_type": "code",
   "execution_count": null,
   "metadata": {},
   "outputs": [],
   "source": []
  },
  {
   "cell_type": "code",
   "execution_count": null,
   "metadata": {},
   "outputs": [],
   "source": []
  },
  {
   "cell_type": "code",
   "execution_count": null,
   "metadata": {},
   "outputs": [],
   "source": []
  },
  {
   "cell_type": "code",
   "execution_count": null,
   "metadata": {},
   "outputs": [],
   "source": []
  }
 ],
 "metadata": {
  "kernelspec": {
   "display_name": "Python 3",
   "language": "python",
   "name": "python3"
  },
  "language_info": {
   "codemirror_mode": {
    "name": "ipython",
    "version": 3
   },
   "file_extension": ".py",
   "mimetype": "text/x-python",
   "name": "python",
   "nbconvert_exporter": "python",
   "pygments_lexer": "ipython3",
   "version": "3.6.8"
  }
 },
 "nbformat": 4,
 "nbformat_minor": 2
}
